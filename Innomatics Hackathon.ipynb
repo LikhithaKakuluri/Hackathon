{
 "cells": [
  {
   "cell_type": "code",
   "execution_count": 13,
   "id": "5600f9af",
   "metadata": {},
   "outputs": [
    {
     "data": {
      "text/html": [
       "<div>\n",
       "<style scoped>\n",
       "    .dataframe tbody tr th:only-of-type {\n",
       "        vertical-align: middle;\n",
       "    }\n",
       "\n",
       "    .dataframe tbody tr th {\n",
       "        vertical-align: top;\n",
       "    }\n",
       "\n",
       "    .dataframe thead th {\n",
       "        text-align: right;\n",
       "    }\n",
       "</style>\n",
       "<table border=\"1\" class=\"dataframe\">\n",
       "  <thead>\n",
       "    <tr style=\"text-align: right;\">\n",
       "      <th></th>\n",
       "      <th>movieId</th>\n",
       "      <th>title</th>\n",
       "      <th>genres</th>\n",
       "    </tr>\n",
       "  </thead>\n",
       "  <tbody>\n",
       "    <tr>\n",
       "      <th>0</th>\n",
       "      <td>1</td>\n",
       "      <td>Toy Story (1995)</td>\n",
       "      <td>Adventure|Animation|Children|Comedy|Fantasy</td>\n",
       "    </tr>\n",
       "    <tr>\n",
       "      <th>1</th>\n",
       "      <td>2</td>\n",
       "      <td>Jumanji (1995)</td>\n",
       "      <td>Adventure|Children|Fantasy</td>\n",
       "    </tr>\n",
       "    <tr>\n",
       "      <th>2</th>\n",
       "      <td>3</td>\n",
       "      <td>Grumpier Old Men (1995)</td>\n",
       "      <td>Comedy|Romance</td>\n",
       "    </tr>\n",
       "    <tr>\n",
       "      <th>3</th>\n",
       "      <td>4</td>\n",
       "      <td>Waiting to Exhale (1995)</td>\n",
       "      <td>Comedy|Drama|Romance</td>\n",
       "    </tr>\n",
       "    <tr>\n",
       "      <th>4</th>\n",
       "      <td>5</td>\n",
       "      <td>Father of the Bride Part II (1995)</td>\n",
       "      <td>Comedy</td>\n",
       "    </tr>\n",
       "  </tbody>\n",
       "</table>\n",
       "</div>"
      ],
      "text/plain": [
       "   movieId                               title  \\\n",
       "0        1                    Toy Story (1995)   \n",
       "1        2                      Jumanji (1995)   \n",
       "2        3             Grumpier Old Men (1995)   \n",
       "3        4            Waiting to Exhale (1995)   \n",
       "4        5  Father of the Bride Part II (1995)   \n",
       "\n",
       "                                        genres  \n",
       "0  Adventure|Animation|Children|Comedy|Fantasy  \n",
       "1                   Adventure|Children|Fantasy  \n",
       "2                               Comedy|Romance  \n",
       "3                         Comedy|Drama|Romance  \n",
       "4                                       Comedy  "
      ]
     },
     "execution_count": 13,
     "metadata": {},
     "output_type": "execute_result"
    }
   ],
   "source": [
    "import pandas as pd\n",
    "df=pd.read_csv(\"movies.csv\")\n",
    "df.head()"
   ]
  },
  {
   "cell_type": "code",
   "execution_count": 14,
   "id": "22955255",
   "metadata": {},
   "outputs": [
    {
     "data": {
      "text/plain": [
       "Index(['movieId', 'title', 'genres'], dtype='object')"
      ]
     },
     "execution_count": 14,
     "metadata": {},
     "output_type": "execute_result"
    }
   ],
   "source": [
    "df.columns"
   ]
  },
  {
   "cell_type": "code",
   "execution_count": 2,
   "id": "c29145f0",
   "metadata": {},
   "outputs": [
    {
     "data": {
      "text/plain": [
       "(9742, 3)"
      ]
     },
     "execution_count": 2,
     "metadata": {},
     "output_type": "execute_result"
    }
   ],
   "source": [
    "df.shape\n"
   ]
  },
  {
   "cell_type": "code",
   "execution_count": 8,
   "id": "5d8e3ee2",
   "metadata": {},
   "outputs": [
    {
     "data": {
      "text/html": [
       "<div>\n",
       "<style scoped>\n",
       "    .dataframe tbody tr th:only-of-type {\n",
       "        vertical-align: middle;\n",
       "    }\n",
       "\n",
       "    .dataframe tbody tr th {\n",
       "        vertical-align: top;\n",
       "    }\n",
       "\n",
       "    .dataframe thead th {\n",
       "        text-align: right;\n",
       "    }\n",
       "</style>\n",
       "<table border=\"1\" class=\"dataframe\">\n",
       "  <thead>\n",
       "    <tr style=\"text-align: right;\">\n",
       "      <th></th>\n",
       "      <th>userId</th>\n",
       "      <th>movieId</th>\n",
       "      <th>rating</th>\n",
       "      <th>timestamp</th>\n",
       "    </tr>\n",
       "  </thead>\n",
       "  <tbody>\n",
       "    <tr>\n",
       "      <th>0</th>\n",
       "      <td>1</td>\n",
       "      <td>1</td>\n",
       "      <td>4.0</td>\n",
       "      <td>964982703</td>\n",
       "    </tr>\n",
       "    <tr>\n",
       "      <th>1</th>\n",
       "      <td>1</td>\n",
       "      <td>3</td>\n",
       "      <td>4.0</td>\n",
       "      <td>964981247</td>\n",
       "    </tr>\n",
       "    <tr>\n",
       "      <th>2</th>\n",
       "      <td>1</td>\n",
       "      <td>6</td>\n",
       "      <td>4.0</td>\n",
       "      <td>964982224</td>\n",
       "    </tr>\n",
       "    <tr>\n",
       "      <th>3</th>\n",
       "      <td>1</td>\n",
       "      <td>47</td>\n",
       "      <td>5.0</td>\n",
       "      <td>964983815</td>\n",
       "    </tr>\n",
       "    <tr>\n",
       "      <th>4</th>\n",
       "      <td>1</td>\n",
       "      <td>50</td>\n",
       "      <td>5.0</td>\n",
       "      <td>964982931</td>\n",
       "    </tr>\n",
       "  </tbody>\n",
       "</table>\n",
       "</div>"
      ],
      "text/plain": [
       "   userId  movieId  rating  timestamp\n",
       "0       1        1     4.0  964982703\n",
       "1       1        3     4.0  964981247\n",
       "2       1        6     4.0  964982224\n",
       "3       1       47     5.0  964983815\n",
       "4       1       50     5.0  964982931"
      ]
     },
     "execution_count": 8,
     "metadata": {},
     "output_type": "execute_result"
    }
   ],
   "source": [
    "import pandas as pd\n",
    "ratings_df=pd.read_csv(\"ratings.csv\")\n",
    "ratings_df.head()"
   ]
  },
  {
   "cell_type": "code",
   "execution_count": 9,
   "id": "31e47e23",
   "metadata": {},
   "outputs": [
    {
     "data": {
      "text/plain": [
       "(100836, 4)"
      ]
     },
     "execution_count": 9,
     "metadata": {},
     "output_type": "execute_result"
    }
   ],
   "source": [
    "ratings_df.shape"
   ]
  },
  {
   "cell_type": "code",
   "execution_count": 10,
   "id": "813837a9",
   "metadata": {},
   "outputs": [
    {
     "data": {
      "text/plain": [
       "610"
      ]
     },
     "execution_count": 10,
     "metadata": {},
     "output_type": "execute_result"
    }
   ],
   "source": [
    "ratings_df['userId'].nunique()"
   ]
  },
  {
   "cell_type": "code",
   "execution_count": 15,
   "id": "b3c22c7e",
   "metadata": {},
   "outputs": [
    {
     "name": "stdout",
     "output_type": "stream",
     "text": [
      "Movie with the maximum number of user ratings:\n",
      "MovieId: 356\n",
      "Movie Title: Forrest Gump (1994)\n"
     ]
    }
   ],
   "source": [
    "# Group by movie and count the number of ratings\n",
    "movie_ratings_count = ratings_df.groupby('movieId')['userId'].count().reset_index(name='ratings_count')\n",
    "\n",
    "# Find the movieId with the maximum number of ratings\n",
    "max_ratings_movie_id = movie_ratings_count.loc[movie_ratings_count['ratings_count'].idxmax(), 'movieId']\n",
    "\n",
    "# Find the movie title for the movieId with the maximum ratings\n",
    "max_ratings_movie_title =df.loc[df['movieId'] == max_ratings_movie_id,'title'].values[0]\n",
    "\n",
    "# Display the result\n",
    "print(\"Movie with the maximum number of user ratings:\")\n",
    "print(f\"MovieId: {max_ratings_movie_id}\")\n",
    "print(f\"Movie Title: {max_ratings_movie_title}\")"
   ]
  },
  {
   "cell_type": "code",
   "execution_count": 17,
   "id": "21ea74b3",
   "metadata": {},
   "outputs": [
    {
     "data": {
      "text/html": [
       "<div>\n",
       "<style scoped>\n",
       "    .dataframe tbody tr th:only-of-type {\n",
       "        vertical-align: middle;\n",
       "    }\n",
       "\n",
       "    .dataframe tbody tr th {\n",
       "        vertical-align: top;\n",
       "    }\n",
       "\n",
       "    .dataframe thead th {\n",
       "        text-align: right;\n",
       "    }\n",
       "</style>\n",
       "<table border=\"1\" class=\"dataframe\">\n",
       "  <thead>\n",
       "    <tr style=\"text-align: right;\">\n",
       "      <th></th>\n",
       "      <th>userId</th>\n",
       "      <th>movieId</th>\n",
       "      <th>tag</th>\n",
       "      <th>timestamp</th>\n",
       "    </tr>\n",
       "  </thead>\n",
       "  <tbody>\n",
       "    <tr>\n",
       "      <th>0</th>\n",
       "      <td>2</td>\n",
       "      <td>60756</td>\n",
       "      <td>funny</td>\n",
       "      <td>1445714994</td>\n",
       "    </tr>\n",
       "    <tr>\n",
       "      <th>1</th>\n",
       "      <td>2</td>\n",
       "      <td>60756</td>\n",
       "      <td>Highly quotable</td>\n",
       "      <td>1445714996</td>\n",
       "    </tr>\n",
       "    <tr>\n",
       "      <th>2</th>\n",
       "      <td>2</td>\n",
       "      <td>60756</td>\n",
       "      <td>will ferrell</td>\n",
       "      <td>1445714992</td>\n",
       "    </tr>\n",
       "    <tr>\n",
       "      <th>3</th>\n",
       "      <td>2</td>\n",
       "      <td>89774</td>\n",
       "      <td>Boxing story</td>\n",
       "      <td>1445715207</td>\n",
       "    </tr>\n",
       "    <tr>\n",
       "      <th>4</th>\n",
       "      <td>2</td>\n",
       "      <td>89774</td>\n",
       "      <td>MMA</td>\n",
       "      <td>1445715200</td>\n",
       "    </tr>\n",
       "  </tbody>\n",
       "</table>\n",
       "</div>"
      ],
      "text/plain": [
       "   userId  movieId              tag   timestamp\n",
       "0       2    60756            funny  1445714994\n",
       "1       2    60756  Highly quotable  1445714996\n",
       "2       2    60756     will ferrell  1445714992\n",
       "3       2    89774     Boxing story  1445715207\n",
       "4       2    89774              MMA  1445715200"
      ]
     },
     "execution_count": 17,
     "metadata": {},
     "output_type": "execute_result"
    }
   ],
   "source": [
    "df1=pd.read_csv(\"tags.csv\")\n",
    "df1.head()"
   ]
  },
  {
   "cell_type": "code",
   "execution_count": 18,
   "id": "b450360b",
   "metadata": {},
   "outputs": [
    {
     "data": {
      "text/plain": [
       "Index(['userId', 'movieId', 'tag', 'timestamp'], dtype='object')"
      ]
     },
     "execution_count": 18,
     "metadata": {},
     "output_type": "execute_result"
    }
   ],
   "source": [
    "df1.columns"
   ]
  },
  {
   "cell_type": "code",
   "execution_count": 21,
   "id": "1a3873a2",
   "metadata": {},
   "outputs": [
    {
     "name": "stdout",
     "output_type": "stream",
     "text": [
      "Tags submitted by users for 'Matrix, The (1999)':\n",
      "['martial arts' 'sci-fi' 'alternate universe' 'philosophy'\n",
      " 'post apocalyptic']\n"
     ]
    }
   ],
   "source": [
    "\n",
    "# Filter tags for the \"Matrix, The (1999)\" movie (replace 'Matrix, The (1999)' with the actual movie title)\n",
    "matrix_tags = df1[(df1['movieId'] == 2571) & (df1['tag'].notna())]['tag'].unique()\n",
    "\n",
    "# Display the result\n",
    "print(\"Tags submitted by users for 'Matrix, The (1999)':\")\n",
    "print(matrix_tags)\n"
   ]
  },
  {
   "cell_type": "code",
   "execution_count": 23,
   "id": "04e1934e",
   "metadata": {},
   "outputs": [
    {
     "name": "stdout",
     "output_type": "stream",
     "text": [
      "Average user rating for 'Terminator 2: Judgment Day (1991)':\n",
      "3.970982142857143\n"
     ]
    }
   ],
   "source": [
    "# Specify the movieId for \"Terminator 2: Judgment Day (1991)\"\n",
    "terminator2_movie_id =589  # Replace with the actual movieId\n",
    "\n",
    "# Filter ratings for the specific movieId\n",
    "terminator2_ratings = ratings_df[ratings_df['movieId'] == terminator2_movie_id]\n",
    "\n",
    "# Calculate the average rating\n",
    "average_rating = terminator2_ratings['rating'].mean()\n",
    "\n",
    "# Display the result\n",
    "print(\"Average user rating for 'Terminator 2: Judgment Day (1991)':\")\n",
    "print(average_rating)"
   ]
  },
  {
   "cell_type": "code",
   "execution_count": 24,
   "id": "128e0778",
   "metadata": {},
   "outputs": [],
   "source": [
    "import matplotlib.pyplot as plt\n",
    "import seaborn as sns"
   ]
  },
  {
   "cell_type": "code",
   "execution_count": 25,
   "id": "423d7e22",
   "metadata": {},
   "outputs": [
    {
     "data": {
      "image/png": "[encoded data removed]",
      "text/plain": [
       "<Figure size 1000x600 with 1 Axes>"
      ]
     },
     "metadata": {},
     "output_type": "display_data"
    }
   ],
   "source": [
    "fight_club_movie_id = 2959  # Replace with the actual movieId\n",
    "\n",
    "# Filter ratings for the specific movieId\n",
    "fight_club_ratings = ratings_df[ratings_df['movieId'] == fight_club_movie_id]\n",
    "\n",
    "# Plot the kernel density plot for user ratings\n",
    "plt.figure(figsize=(10, 6))\n",
    "sns.kdeplot(fight_club_ratings['rating'], fill=True, color='skyblue')\n",
    "plt.title('Kernel Density Plot of User Ratings for \"Fight Club (1999)\"')\n",
    "plt.xlabel('User Ratings')\n",
    "plt.ylabel('Density')\n",
    "plt.show()"
   ]
  },
  {
   "cell_type": "code",
   "execution_count": 26,
   "id": "00e15af8",
   "metadata": {},
   "outputs": [
    {
     "name": "stdout",
     "output_type": "stream",
     "text": [
      "User ratings grouped by movieId:\n",
      "   movieId  count      mean\n",
      "0        1    215  3.920930\n",
      "1        2    110  3.431818\n",
      "2        3     52  3.259615\n",
      "3        4      7  2.357143\n",
      "4        5     49  3.071429\n"
     ]
    }
   ],
   "source": [
    "ratings_grouped = ratings_df.groupby('movieId')['rating'].agg(['count', 'mean']).reset_index()\n",
    "\n",
    "# Display the result\n",
    "print(\"User ratings grouped by movieId:\")\n",
    "print(ratings_grouped.head())"
   ]
  },
  {
   "cell_type": "code",
   "execution_count": 27,
   "id": "8a933a7e",
   "metadata": {},
   "outputs": [
    {
     "name": "stdout",
     "output_type": "stream",
     "text": [
      "Resulting DataFrame after inner join:\n",
      "   movieId                               title  \\\n",
      "0        1                    Toy Story (1995)   \n",
      "1        2                      Jumanji (1995)   \n",
      "2        3             Grumpier Old Men (1995)   \n",
      "3        4            Waiting to Exhale (1995)   \n",
      "4        5  Father of the Bride Part II (1995)   \n",
      "\n",
      "                                        genres  count      mean  \n",
      "0  Adventure|Animation|Children|Comedy|Fantasy    215  3.920930  \n",
      "1                   Adventure|Children|Fantasy    110  3.431818  \n",
      "2                               Comedy|Romance     52  3.259615  \n",
      "3                         Comedy|Drama|Romance      7  2.357143  \n",
      "4                                       Comedy     49  3.071429  \n"
     ]
    }
   ],
   "source": [
    "result_df = pd.merge(df, ratings_grouped, on='movieId', how='inner')\n",
    "\n",
    "# Display the result\n",
    "print(\"Resulting DataFrame after inner join:\")\n",
    "print(result_df.head())"
   ]
  },
  {
   "cell_type": "code",
   "execution_count": 28,
   "id": "a769693b",
   "metadata": {},
   "outputs": [
    {
     "name": "stdout",
     "output_type": "stream",
     "text": [
      "Filtered DataFrame with movies having more than 50 user ratings:\n",
      "   movieId                    title  \\\n",
      "0        1         Toy Story (1995)   \n",
      "1        2           Jumanji (1995)   \n",
      "2        3  Grumpier Old Men (1995)   \n",
      "5        6              Heat (1995)   \n",
      "6        7           Sabrina (1995)   \n",
      "\n",
      "                                        genres  count      mean  \n",
      "0  Adventure|Animation|Children|Comedy|Fantasy    215  3.920930  \n",
      "1                   Adventure|Children|Fantasy    110  3.431818  \n",
      "2                               Comedy|Romance     52  3.259615  \n",
      "5                        Action|Crime|Thriller    102  3.946078  \n",
      "6                               Comedy|Romance     54  3.185185  \n"
     ]
    }
   ],
   "source": [
    "result_df_filtered = result_df[result_df['count'] > 50]\n",
    "\n",
    "# Display the result\n",
    "print(\"Filtered DataFrame with movies having more than 50 user ratings:\")\n",
    "print(result_df_filtered.head())"
   ]
  },
  {
   "cell_type": "code",
   "execution_count": 29,
   "id": "bcb6922d",
   "metadata": {},
   "outputs": [
    {
     "name": "stdout",
     "output_type": "stream",
     "text": [
      "Most popular movie based on average user ratings:\n",
      "title    Shawshank Redemption, The (1994)\n",
      "mean                             4.429022\n",
      "Name: 277, dtype: object\n"
     ]
    }
   ],
   "source": [
    "result_df_sorted = result_df_filtered.sort_values(by='mean', ascending=False)\n",
    "\n",
    "# Display the most popular movie based on average user ratings\n",
    "most_popular_movie = result_df_sorted.iloc[0]\n",
    "\n",
    "print(\"Most popular movie based on average user ratings:\")\n",
    "print(most_popular_movie[['title', 'mean']])"
   ]
  },
  {
   "cell_type": "code",
   "execution_count": 30,
   "id": "ce68c072",
   "metadata": {},
   "outputs": [
    {
     "name": "stdout",
     "output_type": "stream",
     "text": [
      "Top 5 popular movies based on the number of user ratings:\n",
      "                                 title  count\n",
      "314                Forrest Gump (1994)    329\n",
      "277   Shawshank Redemption, The (1994)    317\n",
      "257                Pulp Fiction (1994)    307\n",
      "510   Silence of the Lambs, The (1991)    279\n",
      "1938                Matrix, The (1999)    278\n"
     ]
    }
   ],
   "source": [
    "top5_popular_movies = result_df_filtered.sort_values(by='count', ascending=False).head(5)\n",
    "\n",
    "# Display the top 5 popular movies based on the number of user ratings\n",
    "print(\"Top 5 popular movies based on the number of user ratings:\")\n",
    "print(top5_popular_movies[['title', 'count']])"
   ]
  },
  {
   "cell_type": "code",
   "execution_count": 31,
   "id": "33727607",
   "metadata": {},
   "outputs": [
    {
     "name": "stdout",
     "output_type": "stream",
     "text": [
      "Third most popular Sci-Fi movie based on the number of user ratings:\n",
      "title    Jurassic Park (1993)\n",
      "count                     238\n",
      "Name: 418, dtype: object\n"
     ]
    }
   ],
   "source": [
    "# Assuming result_df_filtered is the DataFrame with movies having more than 50 user ratings\n",
    "# You may need to adjust the column names based on your actual DataFrame structure\n",
    "\n",
    "# Filter for Sci-Fi movies\n",
    "scifi_movies = result_df_filtered[result_df_filtered['genres'].str.contains('Sci-Fi')]\n",
    "\n",
    "# Sort the Sci-Fi movies based on the number of user ratings in descending order\n",
    "scifi_top_movies = scifi_movies.sort_values(by='count', ascending=False)\n",
    "\n",
    "# Display the third most popular Sci-Fi movie based on the number of user ratings\n",
    "third_most_popular_scifi_movie = scifi_top_movies.iloc[2]\n",
    "\n",
    "print(\"Third most popular Sci-Fi movie based on the number of user ratings:\")\n",
    "print(third_most_popular_scifi_movie[['title', 'count']])"
   ]
  },
  {
   "cell_type": "code",
   "execution_count": 40,
   "id": "5eee5359",
   "metadata": {},
   "outputs": [
    {
     "data": {
      "text/html": [
       "<div>\n",
       "<style scoped>\n",
       "    .dataframe tbody tr th:only-of-type {\n",
       "        vertical-align: middle;\n",
       "    }\n",
       "\n",
       "    .dataframe tbody tr th {\n",
       "        vertical-align: top;\n",
       "    }\n",
       "\n",
       "    .dataframe thead th {\n",
       "        text-align: right;\n",
       "    }\n",
       "</style>\n",
       "<table border=\"1\" class=\"dataframe\">\n",
       "  <thead>\n",
       "    <tr style=\"text-align: right;\">\n",
       "      <th></th>\n",
       "      <th>movieId</th>\n",
       "      <th>imdbId</th>\n",
       "      <th>tmdbId</th>\n",
       "    </tr>\n",
       "  </thead>\n",
       "  <tbody>\n",
       "    <tr>\n",
       "      <th>0</th>\n",
       "      <td>1</td>\n",
       "      <td>114709</td>\n",
       "      <td>862.0</td>\n",
       "    </tr>\n",
       "    <tr>\n",
       "      <th>1</th>\n",
       "      <td>2</td>\n",
       "      <td>113497</td>\n",
       "      <td>8844.0</td>\n",
       "    </tr>\n",
       "    <tr>\n",
       "      <th>2</th>\n",
       "      <td>3</td>\n",
       "      <td>113228</td>\n",
       "      <td>15602.0</td>\n",
       "    </tr>\n",
       "    <tr>\n",
       "      <th>3</th>\n",
       "      <td>4</td>\n",
       "      <td>114885</td>\n",
       "      <td>31357.0</td>\n",
       "    </tr>\n",
       "    <tr>\n",
       "      <th>4</th>\n",
       "      <td>5</td>\n",
       "      <td>113041</td>\n",
       "      <td>11862.0</td>\n",
       "    </tr>\n",
       "  </tbody>\n",
       "</table>\n",
       "</div>"
      ],
      "text/plain": [
       "   movieId  imdbId   tmdbId\n",
       "0        1  114709    862.0\n",
       "1        2  113497   8844.0\n",
       "2        3  113228  15602.0\n",
       "3        4  114885  31357.0\n",
       "4        5  113041  11862.0"
      ]
     },
     "execution_count": 40,
     "metadata": {},
     "output_type": "execute_result"
    }
   ],
   "source": [
    "import pandas as pd\n",
    "import requests\n",
    "from bs4 import BeautifulSoup\n",
    "\n",
    "# Load \"links.csv\" file\n",
    "links_df = pd.read_csv('links.csv')\n",
    "\n",
    "links_df.head()\n",
    "\n"
   ]
  },
  {
   "cell_type": "code",
   "execution_count": 41,
   "id": "c48389c7",
   "metadata": {},
   "outputs": [
    {
     "data": {
      "text/plain": [
       "Index(['movieId', 'imdbId', 'tmdbId'], dtype='object')"
      ]
     },
     "execution_count": 41,
     "metadata": {},
     "output_type": "execute_result"
    }
   ],
   "source": [
    "links_df.columns"
   ]
  },
  {
   "cell_type": "code",
   "execution_count": 45,
   "id": "521e2f43",
   "metadata": {},
   "outputs": [
    {
     "name": "stdout",
     "output_type": "stream",
     "text": [
      "Merged DataFrame:\n",
      "   movieId                               title  \\\n",
      "0        1                    Toy Story (1995)   \n",
      "1        2                      Jumanji (1995)   \n",
      "2        3             Grumpier Old Men (1995)   \n",
      "3        4            Waiting to Exhale (1995)   \n",
      "4        5  Father of the Bride Part II (1995)   \n",
      "\n",
      "                                        genres  imdbId   tmdbId  \n",
      "0  Adventure|Animation|Children|Comedy|Fantasy  114709    862.0  \n",
      "1                   Adventure|Children|Fantasy  113497   8844.0  \n",
      "2                               Comedy|Romance  113228  15602.0  \n",
      "3                         Comedy|Drama|Romance  114885  31357.0  \n",
      "4                                       Comedy  113041  11862.0  \n"
     ]
    }
   ],
   "source": [
    "links_df = pd.read_csv('links.csv')\n",
    "\n",
    "# Merge based on 'movieId'\n",
    "merged_df = pd.merge(df, links_df, on='movieId', how='inner')\n",
    "\n",
    "# Display the merged DataFrame\n",
    "print(\"Merged DataFrame:\")\n",
    "print(merged_df.head())"
   ]
  },
  {
   "cell_type": "code",
   "execution_count": 48,
   "id": "eed36fd4",
   "metadata": {},
   "outputs": [
    {
     "name": "stdout",
     "output_type": "stream",
     "text": [
      "Final Merged DataFrame:\n",
      "   movieId                             title_x  \\\n",
      "0        1                    Toy Story (1995)   \n",
      "1        2                      Jumanji (1995)   \n",
      "2        3             Grumpier Old Men (1995)   \n",
      "3        4            Waiting to Exhale (1995)   \n",
      "4        5  Father of the Bride Part II (1995)   \n",
      "\n",
      "                                      genres_x  count      mean  \\\n",
      "0  Adventure|Animation|Children|Comedy|Fantasy    215  3.920930   \n",
      "1                   Adventure|Children|Fantasy    110  3.431818   \n",
      "2                               Comedy|Romance     52  3.259615   \n",
      "3                         Comedy|Drama|Romance      7  2.357143   \n",
      "4                                       Comedy     49  3.071429   \n",
      "\n",
      "                              title_y  \\\n",
      "0                    Toy Story (1995)   \n",
      "1                      Jumanji (1995)   \n",
      "2             Grumpier Old Men (1995)   \n",
      "3            Waiting to Exhale (1995)   \n",
      "4  Father of the Bride Part II (1995)   \n",
      "\n",
      "                                      genres_y  imdbId   tmdbId  \n",
      "0  Adventure|Animation|Children|Comedy|Fantasy  114709    862.0  \n",
      "1                   Adventure|Children|Fantasy  113497   8844.0  \n",
      "2                               Comedy|Romance  113228  15602.0  \n",
      "3                         Comedy|Drama|Romance  114885  31357.0  \n",
      "4                                       Comedy  113041  11862.0  \n"
     ]
    }
   ],
   "source": [
    "\n",
    "# Merge 'result_df' with 'merged_df' based on a common column (e.g., 'movieId')\n",
    "final_merged_df = pd.merge(result_df, merged_df, on='movieId', how='inner')\n",
    "\n",
    "# Display the final merged DataFrame\n",
    "print(\"Final Merged DataFrame:\")\n",
    "print(final_merged_df.head())\n"
   ]
  },
  {
   "cell_type": "code",
   "execution_count": 49,
   "id": "3e8af180",
   "metadata": {},
   "outputs": [
    {
     "name": "stdout",
     "output_type": "stream",
     "text": [
      "Filtered DataFrame with movies having more than 50 user ratings:\n",
      "   movieId                  title_x  \\\n",
      "0        1         Toy Story (1995)   \n",
      "1        2           Jumanji (1995)   \n",
      "2        3  Grumpier Old Men (1995)   \n",
      "5        6              Heat (1995)   \n",
      "6        7           Sabrina (1995)   \n",
      "\n",
      "                                      genres_x  count      mean  \\\n",
      "0  Adventure|Animation|Children|Comedy|Fantasy    215  3.920930   \n",
      "1                   Adventure|Children|Fantasy    110  3.431818   \n",
      "2                               Comedy|Romance     52  3.259615   \n",
      "5                        Action|Crime|Thriller    102  3.946078   \n",
      "6                               Comedy|Romance     54  3.185185   \n",
      "\n",
      "                   title_y                                     genres_y  \\\n",
      "0         Toy Story (1995)  Adventure|Animation|Children|Comedy|Fantasy   \n",
      "1           Jumanji (1995)                   Adventure|Children|Fantasy   \n",
      "2  Grumpier Old Men (1995)                               Comedy|Romance   \n",
      "5              Heat (1995)                        Action|Crime|Thriller   \n",
      "6           Sabrina (1995)                               Comedy|Romance   \n",
      "\n",
      "   imdbId   tmdbId  \n",
      "0  114709    862.0  \n",
      "1  113497   8844.0  \n",
      "2  113228  15602.0  \n",
      "5  113277    949.0  \n",
      "6  114319  11860.0  \n"
     ]
    }
   ],
   "source": [
    "# Filter movies with more than 50 user ratings\n",
    "filtered_df =final_merged_df[final_merged_df['count'] > 50]\n",
    "\n",
    "# Display the filtered DataFrame\n",
    "print(\"Filtered DataFrame with movies having more than 50 user ratings:\")\n",
    "print(filtered_df.head())"
   ]
  },
  {
   "cell_type": "code",
   "execution_count": 52,
   "id": "4863317d",
   "metadata": {},
   "outputs": [
    {
     "data": {
      "text/plain": [
       "Index(['movieId', 'title_x', 'genres_x', 'count', 'mean', 'title_y',\n",
       "       'genres_y', 'imdbId', 'tmdbId'],\n",
       "      dtype='object')"
      ]
     },
     "execution_count": 52,
     "metadata": {},
     "output_type": "execute_result"
    }
   ],
   "source": [
    "filtered_df.columns"
   ]
  },
  {
   "cell_type": "code",
   "execution_count": 50,
   "id": "674042ce",
   "metadata": {},
   "outputs": [
    {
     "name": "stdout",
     "output_type": "stream",
     "text": [
      "MovieId of the movie with the highest IMDb rating:\n",
      "318\n"
     ]
    }
   ],
   "source": [
    "highest_rated_movie = filtered_df.loc[filtered_df['mean'].idxmax()]\n",
    "\n",
    "# Display the movieId of the movie with the highest IMDb rating\n",
    "print(\"MovieId of the movie with the highest IMDb rating:\")\n",
    "print(highest_rated_movie['movieId'])"
   ]
  },
  {
   "cell_type": "code",
   "execution_count": 53,
   "id": "de037490",
   "metadata": {},
   "outputs": [
    {
     "name": "stdout",
     "output_type": "stream",
     "text": [
      "MovieId of the Sci-Fi movie with the highest IMDb rating:\n",
      "260\n"
     ]
    }
   ],
   "source": [
    "scifi_movies = filtered_df[filtered_df['genres_x'].str.contains('Sci-Fi')]\n",
    "\n",
    "# Find the Sci-Fi movie with the highest IMDb rating\n",
    "highest_rated_scifi_movie = scifi_movies.loc[scifi_movies['mean'].idxmax()]\n",
    "\n",
    "# Display the movieId of the Sci-Fi movie with the highest IMDb rating\n",
    "print(\"MovieId of the Sci-Fi movie with the highest IMDb rating:\")\n",
    "print(highest_rated_scifi_movie['movieId'])\n"
   ]
  },
  {
   "cell_type": "code",
   "execution_count": null,
   "id": "28975c17",
   "metadata": {},
   "outputs": [],
   "source": []
  }
 ],
 "metadata": {
  "kernelspec": {
   "display_name": "Python 3 (ipykernel)",
   "language": "python",
   "name": "python3"
  },
  "language_info": {
   "codemirror_mode": {
    "name": "ipython",
    "version": 3
   },
   "file_extension": ".py",
   "mimetype": "text/x-python",
   "name": "python",
   "nbconvert_exporter": "python",
   "pygments_lexer": "ipython3",
   "version": "3.11.3"
  }
 },
 "nbformat": 4,
 "nbformat_minor": 5
}
